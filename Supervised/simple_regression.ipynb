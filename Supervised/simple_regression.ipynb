{
 "cells": [
  {
   "cell_type": "code",
   "execution_count": null,
   "metadata": {},
   "outputs": [],
   "source": [
    "import numpy as np\n",
    "import matplotlib.pyplot as plt"
   ]
  },
  {
   "cell_type": "code",
   "execution_count": null,
   "metadata": {},
   "outputs": [],
   "source": [
    "x=np.array([[6000], [8200], [9000], [14200], [16200]]).reshape(-1, 1)\n",
    "y=[86000, 82000, 78000, 75000, 70000]"
   ]
  },
  {
   "cell_type": "code",
   "execution_count": null,
   "metadata": {},
   "outputs": [],
   "source": [
    "plt.figure()\n",
    "plt.title('Otomobil Fiyat-KM Dagilim Grafigi')\n",
    "plt.xlabel('KM')\n",
    "plt.ylabel('Fiyat')\n",
    "plt.plot(x, y, 'k.')\n",
    "plt.axis([3000, 20000, 60000, 95000])\n",
    "plt.grid(True)\n",
    "plt.show()"
   ]
  },
  {
   "cell_type": "code",
   "execution_count": null,
   "metadata": {},
   "outputs": [],
   "source": [
    "from sklearn.linear_model import LinearRegression\n",
    "model=LinearRegression()\n",
    "model.fit(x,y)"
   ]
  },
  {
   "cell_type": "code",
   "execution_count": null,
   "metadata": {},
   "outputs": [],
   "source": [
    "model.intercept_"
   ]
  },
  {
   "cell_type": "code",
   "execution_count": null,
   "metadata": {},
   "outputs": [],
   "source": [
    "model.coef_"
   ]
  },
  {
   "cell_type": "code",
   "execution_count": null,
   "metadata": {},
   "outputs": [],
   "source": [
    "plt.figure()\n",
    "plt.title('Otomobil Fiyat-KM Dagilim Grafigi')\n",
    "plt.xlabel('KM')\n",
    "plt.ylabel('Fiyat')\n",
    "plt.plot(x, model.predict(x), color='red')\n",
    "plt.plot(x, y, 'k.')\n",
    "plt.grid(True)\n",
    "plt.show()\n"
   ]
  },
  {
   "cell_type": "code",
   "execution_count": null,
   "metadata": {},
   "outputs": [],
   "source": [
    "carKilometerToPrice = int(input())\n",
    "test_araba=np.array([[carKilometerToPrice]])\n",
    "predicted_price=model.predict(test_araba)[0]\n",
    "print(f'{carKilometerToPrice} km\\'deki aracin tahmini fiyati: ₺{predicted_price}')\n"
   ]
  },
  {
   "cell_type": "code",
   "execution_count": 14,
   "metadata": {},
   "outputs": [
    {
     "name": "stdout",
     "output_type": "stream",
     "text": [
      "Tahmin Edilen Fiyat: ₺84737.63020833333, gercek fiyat: ₺86000\n",
      "Tahmin Edilen Fiyat: ₺81690.4296875, gercek fiyat: ₺82000\n",
      "Tahmin Edilen Fiyat: ₺80582.35677083333, gercek fiyat: ₺78000\n",
      "Tahmin Edilen Fiyat: ₺73379.8828125, gercek fiyat: ₺75000\n",
      "Tahmin Edilen Fiyat: ₺70609.70052083333, gercek fiyat: ₺70000\n"
     ]
    }
   ],
   "source": [
    "y_predictions=model.predict(x)\n",
    "for i, prediction in enumerate(y_predictions):\n",
    "    print(f'Tahmin Edilen Fiyat: ₺{prediction}, gercek fiyat: ₺{y[i]}')"
   ]
  },
  {
   "cell_type": "code",
   "execution_count": 15,
   "metadata": {},
   "outputs": [],
   "source": [
    "from sklearn.metrics import mean_absolute_error, mean_squared_error, r2_score"
   ]
  },
  {
   "cell_type": "code",
   "execution_count": 17,
   "metadata": {},
   "outputs": [
    {
     "name": "stdout",
     "output_type": "stream",
     "text": [
      "\n",
      "Ortalama mutlak hata (Mean Absolute Error-MAE: 1276.8229166666656\n",
      "\n",
      "Ortalama Kare Hata (Mean Squared Error-MSE): 2270898.4374999963\n",
      "\n",
      "R^2Determinasyon Katsayisi: 0.9256904961551048\n",
      "\n"
     ]
    }
   ],
   "source": [
    "print(f'''\n",
    "Ortalama mutlak hata (Mean Absolute Error-MAE: {mean_absolute_error(y, y_predictions)}\\n\n",
    "Ortalama Kare Hata (Mean Squared Error-MSE): {mean_squared_error(y, y_predictions)}\\n\n",
    "R^2Determinasyon Katsayisi: {r2_score(y, y_predictions)}\n",
    "''')"
   ]
  }
 ],
 "metadata": {
  "kernelspec": {
   "display_name": "Python 3",
   "language": "python",
   "name": "python3"
  },
  "language_info": {
   "codemirror_mode": {
    "name": "ipython",
    "version": 3
   },
   "file_extension": ".py",
   "mimetype": "text/x-python",
   "name": "python",
   "nbconvert_exporter": "python",
   "pygments_lexer": "ipython3",
   "version": "3.11.2"
  },
  "orig_nbformat": 4
 },
 "nbformat": 4,
 "nbformat_minor": 2
}
